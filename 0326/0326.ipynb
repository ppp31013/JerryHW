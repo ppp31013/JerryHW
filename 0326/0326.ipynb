{
 "cells": [
  {
   "cell_type": "markdown",
   "metadata": {},
   "source": [
    "# Home Work 0326"
   ]
  },
  {
   "cell_type": "markdown",
   "metadata": {},
   "source": [
    "# 1."
   ]
  },
  {
   "cell_type": "code",
   "execution_count": 2,
   "metadata": {},
   "outputs": [
    {
     "name": "stdout",
     "output_type": "stream",
     "text": [
      "輸入一個整數50\n"
     ]
    },
    {
     "data": {
      "text/plain": [
       "[150]"
      ]
     },
     "execution_count": 2,
     "metadata": {},
     "output_type": "execute_result"
    }
   ],
   "source": [
    "list(map(lambda x:x+100,[int(input(\"輸入一個整數\"))]))"
   ]
  },
  {
   "cell_type": "markdown",
   "metadata": {},
   "source": [
    "# 2."
   ]
  },
  {
   "cell_type": "code",
   "execution_count": 12,
   "metadata": {},
   "outputs": [
    {
     "name": "stdout",
     "output_type": "stream",
     "text": [
      "相加的結果:14\n"
     ]
    },
    {
     "data": {
      "text/plain": [
       "'相乘的結果:45'"
      ]
     },
     "execution_count": 12,
     "metadata": {},
     "output_type": "execute_result"
    }
   ],
   "source": [
    "def square_it(func):\n",
    "    def square(c,d):\n",
    "        result = func(c,d)\n",
    "        print(\"相加的結果:%d\"%(result))\n",
    "        return (\"相乘的結果:%d\"%(c*d))\n",
    "    return square\n",
    "@square_it\n",
    "def add_int(a,b):\n",
    "    return(a+b)\n",
    "add_int(9,5)"
   ]
  },
  {
   "cell_type": "markdown",
   "metadata": {},
   "source": [
    "# 3."
   ]
  },
  {
   "cell_type": "code",
   "execution_count": 1,
   "metadata": {},
   "outputs": [
    {
     "name": "stdout",
     "output_type": "stream",
     "text": [
      "5\n",
      "5\n",
      "6\n",
      ".\n",
      "出錯，請重新輸入\n"
     ]
    }
   ],
   "source": [
    "while True:\n",
    "    try:\n",
    "        int(input())\n",
    "    except:\n",
    "        print(\"出錯，請重新輸入\")\n",
    "        break"
   ]
  },
  {
   "cell_type": "markdown",
   "metadata": {},
   "source": [
    "# 4."
   ]
  },
  {
   "cell_type": "code",
   "execution_count": 4,
   "metadata": {},
   "outputs": [
    {
     "name": "stdout",
     "output_type": "stream",
     "text": [
      "請輸入第一個數字：50\n",
      "請輸入第二個數字：50\n",
      "請輸入運算值：+\n",
      "100\n"
     ]
    }
   ],
   "source": [
    "from source import calculator\n",
    "\n",
    "a=int(input('請輸入第一個數字：'))\n",
    "b=int(input('請輸入第二個數字：'))\n",
    "f=input('請輸入運算值：')\n",
    "  \n",
    "print(calculator.answer(a,b,f))"
   ]
  },
  {
   "cell_type": "code",
   "execution_count": null,
   "metadata": {},
   "outputs": [],
   "source": []
  }
 ],
 "metadata": {
  "kernelspec": {
   "display_name": "Python 3",
   "language": "python",
   "name": "python3"
  }
 },
 "nbformat": 4,
 "nbformat_minor": 2
}
